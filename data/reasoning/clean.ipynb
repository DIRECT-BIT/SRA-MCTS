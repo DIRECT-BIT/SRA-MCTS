{
 "cells": [
  {
   "cell_type": "code",
   "execution_count": 3,
   "metadata": {},
   "outputs": [],
   "source": [
    "import json\n",
    "import re\n",
    "# 读取JSON文件\n",
    "with open('/home/bxu/EXP/github/Remake-MCTS/data/piped/mcts-piped-llama3.1-8B.json', 'r', encoding='utf-8') as file:\n",
    "    lines = file.readlines()\n",
    "\n",
    "# 过滤solution词数少于20的行 \n",
    "filtered_lines = []\n",
    "for line in lines:\n",
    "    entry = json.loads(line)\n",
    "    entry['solution'] = re.sub(r'```python[\\s\\S]*?(?:```|$)', '', entry['solution'], flags=re.DOTALL)\n",
    "\n",
    "    if len(entry['solution'].split(' ')) < 20:\n",
    "        continue\n",
    "    filtered_lines.append(entry)\n",
    "\n",
    "\n",
    "# 将结果写入新的JSON文件\n",
    "with open('/home/bxu/EXP/github/Remake-MCTS/data/piped/mcts-piped-llama3.1-8B.json', 'w', encoding='utf-8') as file:\n",
    "    for entry in filtered_lines:\n",
    "        file.write(json.dumps(entry, ensure_ascii=False) + '\\n')"
   ]
  }
 ],
 "metadata": {
  "kernelspec": {
   "display_name": "factory",
   "language": "python",
   "name": "python3"
  },
  "language_info": {
   "codemirror_mode": {
    "name": "ipython",
    "version": 3
   },
   "file_extension": ".py",
   "mimetype": "text/x-python",
   "name": "python",
   "nbconvert_exporter": "python",
   "pygments_lexer": "ipython3",
   "version": "3.10.14"
  }
 },
 "nbformat": 4,
 "nbformat_minor": 2
}
