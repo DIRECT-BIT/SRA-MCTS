{
 "cells": [
  {
   "cell_type": "code",
   "execution_count": 2,
   "metadata": {},
   "outputs": [],
   "source": [
    "import json\n",
    "import torch\n",
    "from transformers import AutoModelForCausalLM, AutoTokenizer\n",
    "from tqdm import tqdm"
   ]
  },
  {
   "cell_type": "code",
   "execution_count": 3,
   "metadata": {},
   "outputs": [],
   "source": [
    "entries = []\n",
    "file_name = ''\n",
    "with open(file_name, 'r', encoding='utf-8') as f:\n",
    "    for line in f:\n",
    "        entry = json.loads(line)\n",
    "        entries.append('### Question: ' + entry['question'] + '\\n' + '### Solution: ' + '\\n' + entry['solution'] + '\\n')"
   ]
  },
  {
   "cell_type": "code",
   "execution_count": 9,
   "metadata": {},
   "outputs": [],
   "source": [
    "chunk_entries = []\n",
    "\n",
    "batch_size = 32\n",
    "for i in range(0, len(entries), batch_size):\n",
    "    if i + batch_size < len(entries):\n",
    "        chunk_entries.append(entries[i: i+batch_size])\n",
    "    else:\n",
    "        chunk_entries.append(entries[i:])"
   ]
  },
  {
   "cell_type": "code",
   "execution_count": null,
   "metadata": {},
   "outputs": [],
   "source": [
    "path = ''\n",
    "\n",
    "model = AutoModelForCausalLM.from_pretrained(path, device_map='auto', torch_dtype=torch.bfloat16)\n",
    "tokenizer = AutoTokenizer.from_pretrained(path, padding_side='left')"
   ]
  },
  {
   "cell_type": "code",
   "execution_count": 6,
   "metadata": {},
   "outputs": [],
   "source": [
    "prompt = '''You will play the role of a code implementer, writing a complete code based on the given problem and the step-by-step analysis of the problem. \n",
    "Your code must strictly follow the analysis steps provided and should not include your own opinions.\n",
    "'''"
   ]
  },
  {
   "cell_type": "code",
   "execution_count": 12,
   "metadata": {},
   "outputs": [],
   "source": [
    "# tokenizer.pad_token = tokenizer.eos_token"
   ]
  },
  {
   "cell_type": "code",
   "execution_count": null,
   "metadata": {},
   "outputs": [],
   "source": [
    "output_file = open(\"/home/bxu/EXP/Remake-MCTS/data/nl2sl/tot-gemma-translation.json\", \"w\", encoding=\"utf-8\")\n",
    "\n",
    "for chunk in tqdm(chunk_entries):\n",
    "    # messages = [\n",
    "    #         [\n",
    "    #             {\"role\": \"system\", \"content\": prompt},\n",
    "    #             {\"role\": \"user\", \"content\": entry}\n",
    "    #         ]\n",
    "\n",
    "    #         # prompt + entry\n",
    "    #     for entry in chunk\n",
    "    # ]\n",
    "    # 使用 batch 形式处理消息\n",
    "    # texts = [\n",
    "    #     tokenizer.apply_chat_template(message, tokenize=False, add_generation_prompt=True)\n",
    "    #     for message in messages\n",
    "    # ] # For Llama and Qwen\n",
    "\n",
    "    texts = [prompt + '\\n' + entry for entry in chunk] # For gemma which did not support chat template\n",
    "\n",
    "    # 批量将文本编码为模型输入\n",
    "    model_inputs = tokenizer(texts, return_tensors=\"pt\", padding=True).to(model.device)\n",
    "\n",
    "    # 生成输出（批量推理）\n",
    "    generated_ids = model.generate(\n",
    "        input_ids=model_inputs.input_ids,\n",
    "        attention_mask=model_inputs.attention_mask,\n",
    "        max_new_tokens=512,\n",
    "    )\n",
    "    generated_ids_trimmed = [\n",
    "    output_ids[len(input_ids):]  # 从生成的 token 中移除输入的 token\n",
    "        for input_ids, output_ids in zip(model_inputs.input_ids, generated_ids)\n",
    "    ]\n",
    "    # 解码输出\n",
    "    generated_responses = tokenizer.batch_decode(generated_ids_trimmed, skip_special_tokens=True)\n",
    "\n",
    "    # 打印每个输入的生成结果\n",
    "    for query, response in zip(chunk, generated_responses):\n",
    "        output_file.write(json.dumps({'question': query, 'solution': response}, ensure_ascii=False) + \"\\n\")\n",
    "    \n",
    "    output_file.flush()\n",
    "\n",
    "output_file.close()"
   ]
  }
 ],
 "metadata": {
  "kernelspec": {
   "display_name": "factory",
   "language": "python",
   "name": "python3"
  },
  "language_info": {
   "codemirror_mode": {
    "name": "ipython",
    "version": 3
   },
   "file_extension": ".py",
   "mimetype": "text/x-python",
   "name": "python",
   "nbconvert_exporter": "python",
   "pygments_lexer": "ipython3",
   "version": "3.10.14"
  }
 },
 "nbformat": 4,
 "nbformat_minor": 2
}
