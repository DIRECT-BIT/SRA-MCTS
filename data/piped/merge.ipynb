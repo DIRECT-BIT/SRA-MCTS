{
 "cells": [
  {
   "cell_type": "code",
   "execution_count": 1,
   "metadata": {},
   "outputs": [],
   "source": [
    "import json\n",
    "import random"
   ]
  },
  {
   "cell_type": "code",
   "execution_count": 2,
   "metadata": {},
   "outputs": [],
   "source": [
    "reasoning = \"\"\n",
    "nl2sl = \"\"\n",
    "mixed = \"\""
   ]
  },
  {
   "cell_type": "code",
   "execution_count": 3,
   "metadata": {},
   "outputs": [],
   "source": [
    "reasoning_ls = [] \n",
    "with open(reasoning, 'r', encoding='utf-8') as f:\n",
    "    for line in f:\n",
    "        reasoning_ls.append(json.loads(line))\n",
    "    \n",
    "nl2sl_ls = []\n",
    "with open(nl2sl, 'r', encoding='utf-8') as f:\n",
    "    for line in f:\n",
    "        nl2sl_ls.append(json.loads(line))"
   ]
  },
  {
   "cell_type": "code",
   "execution_count": 4,
   "metadata": {},
   "outputs": [],
   "source": [
    "# prompts = [\n",
    "#     \"For the given problem, generate a step-by-step plan for solving it, followed by the corresponding Python code.\",\n",
    "#     \"Break down the problem into smaller tasks and describe how each step should be solved. Then, provide the Python code that implements these steps.\",\n",
    "#     \"Analyze the problem and devise a solution plan. Once the plan is ready, implement it in Python and generate the code.\",\n",
    "#     \"Create a structured approach to solve the problem, with each step explained in detail. After that, write the Python code that executes the solution.\",\n",
    "#     \"Step through the logic required to solve the given problem, and after outlining the steps, provide the Python code to perform the solution.\"\n",
    "# ]\n",
    "prompts = [\n",
    "    \"Thoroughly analyze the given problem to understand its requirements. Break it down into logical steps, and propose a detailed approach for solving it. Then, generate the Python code that implements your solution.\",\n",
    "    \"Reflect on the problem's underlying structure and decompose it into smaller tasks. For each task, explain how it contributes to solving the overall problem, and provide the Python code to implement these steps.\",\n",
    "    \"Examine the problem critically to uncover any hidden complexities or challenges. Based on this analysis, design a step-by-step solution strategy, and then write the corresponding Python code.\",\n",
    "    \"Think deeply about the problem to identify the best approach. Formulate a well-reasoned plan, explaining each step of the process in detail before generating the Python code to execute your solution.\",\n",
    "    \"Consider all aspects of the problem carefully and develop a structured problem-solving strategy. After outlining the necessary steps, create the Python code that brings this strategy to life.\"\n",
    "]\n"
   ]
  },
  {
   "cell_type": "code",
   "execution_count": 5,
   "metadata": {},
   "outputs": [],
   "source": [
    "with open(mixed, 'w', encoding='utf-8') as f:\n",
    "    for reason, sl in zip(reasoning_ls, nl2sl_ls):\n",
    "        prompt = random.choice(prompts)\n",
    "        dic = {}\n",
    "        dic['question'] = prompt + '\\nHere\\'s the question:\\n' + reason['question'].split('**Example')[0]\n",
    "        dic['solution'] = reason['solution'] + '\\n' + sl['solution']\n",
    "        f.write(json.dumps(dic, ensure_ascii=False) + '\\n')\n"
   ]
  },
  {
   "cell_type": "code",
   "execution_count": 9,
   "metadata": {},
   "outputs": [],
   "source": [
    "# Shuffle\n",
    "data = []\n",
    "\n",
    "path = \"\"\n",
    "\n",
    "with open(path, 'r', encoding='utf-8') as f:\n",
    "    for line in f:\n",
    "        data.append(json.loads(line))\n",
    "\n",
    "random.shuffle(data)\n",
    "\n",
    "with open(path, 'w', encoding='utf-8') as f:\n",
    "    for line in data:\n",
    "        f.write(json.dumps(line, ensure_ascii=False) + '\\n')"
   ]
  }
 ],
 "metadata": {
  "kernelspec": {
   "display_name": "factory",
   "language": "python",
   "name": "python3"
  },
  "language_info": {
   "codemirror_mode": {
    "name": "ipython",
    "version": 3
   },
   "file_extension": ".py",
   "mimetype": "text/x-python",
   "name": "python",
   "nbconvert_exporter": "python",
   "pygments_lexer": "ipython3",
   "version": "3.10.14"
  }
 },
 "nbformat": 4,
 "nbformat_minor": 2
}
